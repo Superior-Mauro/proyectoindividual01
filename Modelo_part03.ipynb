{
 "cells": [
  {
   "cell_type": "code",
   "execution_count": 85,
   "metadata": {},
   "outputs": [],
   "source": [
    "import pandas as pd\n",
    "from sklearn.feature_extraction.text import TfidfVectorizer\n",
    "from sklearn.metrics.pairwise import linear_kernel"
   ]
  },
  {
   "cell_type": "code",
   "execution_count": 86,
   "metadata": {},
   "outputs": [],
   "source": [
    "# Paso 1: Cargar los datos\n",
    "df = pd.read_csv('movies_dataset.csv', low_memory=False)\n",
    "data = df.copy()"
   ]
  },
  {
   "cell_type": "code",
   "execution_count": 87,
   "metadata": {},
   "outputs": [],
   "source": [
    "data = data.drop_duplicates(subset = 'title')"
   ]
  },
  {
   "cell_type": "code",
   "execution_count": 88,
   "metadata": {},
   "outputs": [
    {
     "name": "stdout",
     "output_type": "stream",
     "text": [
      "5.624940274853939\n"
     ]
    }
   ],
   "source": [
    "#Calculamos la media de la columna de promedio de votos\n",
    "C = data['vote_average'].mean()\n",
    "print(C)"
   ]
  },
  {
   "cell_type": "code",
   "execution_count": 89,
   "metadata": {},
   "outputs": [
    {
     "name": "stdout",
     "output_type": "stream",
     "text": [
      "158.0\n"
     ]
    }
   ],
   "source": [
    "# Calculamos el número mínimo de votos necesarios para estar en la tabla, m\n",
    "m = data['vote_count'].quantile(0.90)\n",
    "print(m)"
   ]
  },
  {
   "cell_type": "code",
   "execution_count": 90,
   "metadata": {},
   "outputs": [],
   "source": [
    "# Filtramos todas las películas calificadas en un nuevo DataFrame\n",
    "data = data.loc[data['vote_count'] >= m]"
   ]
  },
  {
   "cell_type": "code",
   "execution_count": 91,
   "metadata": {},
   "outputs": [],
   "source": [
    "# Función que calcula la calificación ponderada de cada película\n",
    "def weighted_rating(x, m=m, C=C):\n",
    "    v = x['vote_count']\n",
    "    R = x['vote_average']\n",
    "    # Calculation based on the IMDB formula\n",
    "    return (v/(v+m) * R) + (m/(m+v) * C)"
   ]
  },
  {
   "attachments": {},
   "cell_type": "markdown",
   "metadata": {},
   "source": [
    "Sacamos el promedio ponderado con esta formula\n",
    "\n",
    "            (WR) = (v/(v + m))R + (m/(v+m))C\n",
    "\n",
    "R = promedio de la pelicula (Media)  <br>\n",
    "v = número de votos para la película <br>\n",
    "m = votos mínimos necesarios para figurar en el Top 50 (actualmente 1000) <br>\n",
    "C = la media de votos en todo el informe (actualmente 6,8)"
   ]
  },
  {
   "cell_type": "code",
   "execution_count": 92,
   "metadata": {},
   "outputs": [],
   "source": [
    "# Definimos una nueva característica 'score' y calculamos su valor con `weighted_rating()\n",
    "data['score'] = data.apply(weighted_rating, axis=1)"
   ]
  },
  {
   "cell_type": "code",
   "execution_count": 93,
   "metadata": {},
   "outputs": [],
   "source": [
    "# Ordenamos las películas según la columna de puntuación\n",
    "data = data.sort_values('score', ascending = False)"
   ]
  },
  {
   "cell_type": "code",
   "execution_count": 94,
   "metadata": {},
   "outputs": [
    {
     "data": {
      "text/plain": [
       "314      Framed in the 1940s for the double murder of h...\n",
       "10309    Raj is a rich, carefree, happy-go-lucky second...\n",
       "834      Spanning the years 1945 to 1955, a chronicle o...\n",
       "12481    Batman raises the stakes in his war on crime. ...\n",
       "2843     A ticking-time-bomb insomniac and a slippery s...\n",
       "                               ...                        \n",
       "9710     Tim Avery, an aspiring cartoonist, finds himse...\n",
       "12911    In DISASTER MOVIE, the filmmaking team behind ...\n",
       "3471     In the year 3000, man is no match for the Psyc...\n",
       "11557    When Edward, Peter, Lucy and Susan each follow...\n",
       "13566    The young warrior Son Goku sets out on a quest...\n",
       "Name: overview, Length: 4241, dtype: object"
      ]
     },
     "execution_count": 94,
     "metadata": {},
     "output_type": "execute_result"
    }
   ],
   "source": [
    "# Exploramos el overview de las películas\n",
    "data['overview']"
   ]
  },
  {
   "cell_type": "code",
   "execution_count": 95,
   "metadata": {},
   "outputs": [],
   "source": [
    "# Creamos el objeto TF-IDF Vectorizer y eliminamos las palabras vacías en inglés\n",
    "tfidf = TfidfVectorizer(stop_words='english')"
   ]
  },
  {
   "cell_type": "code",
   "execution_count": 96,
   "metadata": {},
   "outputs": [],
   "source": [
    "#Reemplazmos NaN con una cadena vacia\n",
    "data['overview'] = data['overview'].fillna('')"
   ]
  },
  {
   "cell_type": "code",
   "execution_count": 97,
   "metadata": {},
   "outputs": [],
   "source": [
    "# Creamos la matriz\n",
    "tfidf_matrix = tfidf.fit_transform(data['overview'])"
   ]
  },
  {
   "cell_type": "code",
   "execution_count": 98,
   "metadata": {},
   "outputs": [
    {
     "data": {
      "text/plain": [
       "array(['disguise', 'disguised', 'disguises', 'disgusted', 'dishes',\n",
       "       'dishonored', 'disillusioned', 'disillusionment', 'disillusions',\n",
       "       'disintegrate'], dtype=object)"
      ]
     },
     "execution_count": 98,
     "metadata": {},
     "output_type": "execute_result"
    }
   ],
   "source": [
    "# Asignamos índices enteros de características al nombre de la característica#\n",
    "tfidf.get_feature_names_out()[5000:5010]"
   ]
  },
  {
   "cell_type": "code",
   "execution_count": 99,
   "metadata": {},
   "outputs": [],
   "source": [
    "# Calculamos la puntuación de similitud de coseno\n",
    "cosine_sim = linear_kernel(tfidf_matrix, tfidf_matrix)"
   ]
  },
  {
   "cell_type": "code",
   "execution_count": 100,
   "metadata": {},
   "outputs": [],
   "source": [
    "#Restablecemos los índices para que coincidan con la matriz de similitud de coseno\n",
    "data.reset_index(drop = True, inplace = True)"
   ]
  },
  {
   "cell_type": "code",
   "execution_count": 101,
   "metadata": {},
   "outputs": [],
   "source": [
    "# Construimos un mapa inverso de índices y títulos de películas.\n",
    "index = pd.Series(data.index, index = data['title']).drop_duplicates()"
   ]
  },
  {
   "cell_type": "code",
   "execution_count": 103,
   "metadata": {},
   "outputs": [],
   "source": [
    "# Creamos la función de recomendación \n",
    "def recomendacion(titulo, cosine_sim = cosine_sim):\n",
    "\n",
    "  if titulo not in index:\n",
    "    return \"La película no se encuentra entre el 10% de las mejores películas. Intenta con una mejor!\"\n",
    "\n",
    "  idx = index[titulo]\n",
    "  sim_scores = list(enumerate(cosine_sim[idx]))\n",
    "  sim_scores = sorted(sim_scores, key = lambda x: x[1], reverse = True)\n",
    "  sim_scores = sim_scores[1:6]\n",
    "  movie_indices = [i[0] for i in sim_scores]\n",
    "  result = data['title'].iloc[movie_indices]\n",
    "  return {\"Te recomendamos estas peliculas\" : list(result)}"
   ]
  },
  {
   "cell_type": "code",
   "execution_count": 104,
   "metadata": {},
   "outputs": [
    {
     "data": {
      "text/plain": [
       "{'Te recomendamos estas peliculas': ['Superman II',\n",
       "  'Superman Returns',\n",
       "  'Superman IV: The Quest for Peace',\n",
       "  \"National Lampoon's Christmas Vacation\",\n",
       "  'Central Intelligence']}"
      ]
     },
     "execution_count": 104,
     "metadata": {},
     "output_type": "execute_result"
    }
   ],
   "source": [
    "recomendacion(\"Superman\")"
   ]
  }
 ],
 "metadata": {
  "kernelspec": {
   "display_name": "Python 3",
   "language": "python",
   "name": "python3"
  },
  "language_info": {
   "codemirror_mode": {
    "name": "ipython",
    "version": 3
   },
   "file_extension": ".py",
   "mimetype": "text/x-python",
   "name": "python",
   "nbconvert_exporter": "python",
   "pygments_lexer": "ipython3",
   "version": "3.10.4"
  },
  "orig_nbformat": 4
 },
 "nbformat": 4,
 "nbformat_minor": 2
}
